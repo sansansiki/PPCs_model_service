{
 "cells": [
  {
   "cell_type": "code",
   "execution_count": 4,
   "metadata": {},
   "outputs": [],
   "source": [
    "import sys\n",
    "package_list = ['./app/ppc_predict/']\n",
    "for path in package_list:\n",
    "    sys.path.append(path)\n",
    "from data_load import *\n",
    "import pandas as pd\n",
    "import numpy as np\n",
    "import _pickle as pkl"
   ]
  },
  {
   "cell_type": "code",
   "execution_count": 5,
   "metadata": {},
   "outputs": [],
   "source": [
    "\n",
    "test_data_df = pd.DataFrame(\n",
    "    {\"Operative_specialty_location\": [9.0,11.0],\n",
    "        \"Date_of_operation\":[6.0000,np.nan],\n",
    "        \"ASA_classification\":[2.0,3.0],\n",
    "        \"Minimum_of_MP\":[2.807,2.97],\n",
    "        \"ABO_blood_group\":[1,2],\n",
    "        \"Laparoscopic_surgery\":[1,0],\n",
    "        \"AUC_of_CRS\":[np.nan,8926.0648],\n",
    "        \"Disseminated_cancer\":[0,1],\n",
    "        \"Sex\":[2,1],\n",
    "        \"Functional_status\":[1,2],\n",
    "        \"Cardiac_functional_grading_NYHA\":[2,2],\n",
    "        \"Longest_stirke_above_mean_value_of_MP\":[10.0,9.0000],\n",
    "        \"Respiratory_rate_(beats/min)\":[20.0000,np.nan],\n",
    "        \"Variance_of_ΔP\":[8.5751,8.75],\n",
    "        \"Minimum_of_CRS\":[17.00,17.00],\n",
    "        \"Longest_stirke_above_mean_value_of_CRS\":[38.0,38.0],\n",
    "        \"longest_stirke_below_mean_value_of_CRS\":[59.0,59.0],\n",
    "        \"Longest_stirke_below_mean_value_of_MP\":[37.5,37.5],\n",
    "        \"Hypertension_control\":[0,0],\n",
    "        \"Percentage_of_MP_value_exceeding_15%_from_the_mean\":[0.1136,0.1136]}\n",
    ")"
   ]
  },
  {
   "cell_type": "code",
   "execution_count": 6,
   "metadata": {},
   "outputs": [
    {
     "data": {
      "text/plain": [
       "array([0.5245026, 0.5190698], dtype=float32)"
      ]
     },
     "execution_count": 6,
     "metadata": {},
     "output_type": "execute_result"
    }
   ],
   "source": [
    "x = load_dataframe(test_data_df)\n",
    "\n",
    "# load model \n",
    "y_pred_prob_list = []\n",
    "\n",
    "for i in range(1,6):\n",
    "    with open(f'./model/ppcs_predict_model/XGBClassifier_{i}.pickle','rb') as f:\n",
    "        clf_load = pkl.load(f)  \n",
    "        y_pred_prob_list.append(clf_load.predict_proba(x)[:,1]) \n",
    "\n",
    "y_prob = np.mean(np.array(y_pred_prob_list), axis=0)\n",
    "y_prob"
   ]
  }
 ],
 "metadata": {
  "kernelspec": {
   "display_name": "base",
   "language": "python",
   "name": "python3"
  },
  "language_info": {
   "codemirror_mode": {
    "name": "ipython",
    "version": 3
   },
   "file_extension": ".py",
   "mimetype": "text/x-python",
   "name": "python",
   "nbconvert_exporter": "python",
   "pygments_lexer": "ipython3",
   "version": "3.9.7"
  }
 },
 "nbformat": 4,
 "nbformat_minor": 2
}
